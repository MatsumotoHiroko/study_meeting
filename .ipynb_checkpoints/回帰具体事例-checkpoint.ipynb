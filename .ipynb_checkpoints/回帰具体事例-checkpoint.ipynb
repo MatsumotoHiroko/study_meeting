{
 "cells": [
  {
   "cell_type": "markdown",
   "metadata": {},
   "source": [
    "# ゲームで考える課金施策\n",
    "「恋愛シミュレーション」というゲームの一ジャンルがあります。\n",
    "ゲームの中の登場人物と恋愛するゲームです。\n",
    "シナリオを最後まで読むと、登場人物と（二次元で）結ばれます！\n",
    "\n",
    "![ときメモ](https://nsx.np.dl.playstation.net/nsx/material/e/e17175578a72e697a6b2ef7b7a955cbfaaad849c-914763.jpg)\n",
    "![AIR](https://lh3.ggpht.com/C_cbx8aSjgT2qbdrSCqhWPYyc9LMeEX3SvUSQvOrV4ba-n4DTX2vDCFuRMhDrBTXoFw=h900)\n",
    "![うたプリ](http://www.jp.playstation.com/software/title/8tnu01000005edeb-img/8tnu01000005edl0.jpg)\n",
    "\n",
    "[参考:Playstation store](https://store.playstation.com/ja-jp/product/JP0101-NPJJ00303_00-0000000000000001)\n",
    "\n",
    "[参考:google play](https://play.google.com/store/apps/details?id=jp.co.prot.air)\n",
    "\n",
    "[参考:playstation store](http://www.jp.playstation.com/software/title/pbgp0089.html)\n",
    "\n",
    "※あくまでイメージです。以下で説明するゲームのシステムと画像のゲームのシステムはかなり異なります。課金恋愛シミュレーションで誰でも知ってる有名なゲームがないので・・・\n",
    "\n",
    "---\n",
    "\n",
    "- 全体でn話のシナリオ（今回は簡略化のためn=10）\n",
    "- シナリオの続きを読むには「ミニゲーム」（アルバイト）をクリアしポイントを貯める\n",
    "- 「ミニゲーム」をするには「体力」というパラメータを消費する\n",
    "- 「体力」の回復には「体力回復アイテム」（有料）を使う or 現実時間の経過\n",
    "- 「イベントシナリオ」課金特権で特別シナリオ\n",
    "\n",
    "<img src=\"image/simulationgame.png\">\n",
    "\n",
    "あなたはこのゲームのプロデューサーです。\n",
    "ユーザーからお金を取ることを考えていきます。\n",
    "\n",
    "---\n",
    "## 目的\n",
    "有料アイテムを売ること\n",
    "\n",
    "そのために、\n",
    "\n",
    "* 関係ありそうな項目を２つ以上取り出して、相関関係を見ていく\n",
    "* 「離脱」「売り上げ減」につながる相関関係を見出しゲームを改善\n",
    "* 「売り上げ増」につながる相関関係を見出しテコ入れ\n",
    "\n",
    "---\n",
    "## 1.「平均ミニゲーム挑戦回数」「平均体力回復アイテムの売り上げ個数」\n",
    "- 仮説：ミニゲーム難易度↑、体力回復アイテム売り上げ個数↑"
   ]
  },
  {
   "cell_type": "code",
   "execution_count": 1,
   "metadata": {},
   "outputs": [
    {
     "data": {
      "image/png": "[encoded data removed]",
      "text/plain": [
       "<matplotlib.figure.Figure at 0x108eb7c88>"
      ]
     },
     "metadata": {},
     "output_type": "display_data"
    }
   ],
   "source": [
    "from sklearn.linear_model import LinearRegression\n",
    "import matplotlib.pyplot as plt\n",
    "\n",
    "def lin_regplot(X, y, model):\n",
    "    plt.scatter(X,y,c='blue')\n",
    "    plt.plot(X,model.predict(X),color='red')\n",
    "    return None\n",
    "\n",
    "x = [[1],[2],[3],[4],[5],[6],[7],[8],[9],[10]]\n",
    "y = [6,3,6,1,3,7,2,5,1,2]\n",
    "\n",
    "slr = LinearRegression()\n",
    "slr.fit(x,y)\n",
    "\n",
    "lin_regplot(x, y, slr)\n",
    "plt.xlabel(\"num\")\n",
    "plt.ylabel(\"item\")\n",
    "plt.show()\n"
   ]
  },
  {
   "cell_type": "markdown",
   "metadata": {
    "collapsed": true
   },
   "source": [
    "予想と違って、あまり関係がないようです。むしろ、挑戦回数が増えるほど体力回復アイテム購入数が減っているようで、難しくするほど挫折してゲームから離脱している可能性が有り得そうです。\n",
    "\n",
    "---\n",
    "##  2.「ミニゲーム挑戦回数」「離脱率」\n",
    "- 仮説：ミニゲームが難しいほどユーザーが飽きて離脱（ゲームを辞める）"
   ]
  },
  {
   "cell_type": "code",
   "execution_count": 2,
   "metadata": {},
   "outputs": [
    {
     "data": {
      "image/png": "[encoded data removed]",
      "text/plain": [
       "<matplotlib.figure.Figure at 0x108f6ea58>"
      ]
     },
     "metadata": {},
     "output_type": "display_data"
    }
   ],
   "source": [
    "x = [[1],[2],[3],[4],[5],[6],[7],[8],[9],[10]]\n",
    "y = [6,8,10,15,20,30,50,60,80,90]\n",
    "\n",
    "slr = LinearRegression()\n",
    "slr.fit(x,y)\n",
    "\n",
    "lin_regplot(x, y, slr)\n",
    "plt.xlabel(\"num\")\n",
    "plt.ylabel(\"ridatsu\")\n",
    "plt.show()\n"
   ]
  },
  {
   "cell_type": "markdown",
   "metadata": {
    "collapsed": true
   },
   "source": [
    "なんとなく関係がありそうです。\n",
    "\n",
    "---\n",
    "##  3.「ユーザーのシナリオ進捗」「イベントシナリオ購入数」\n",
    "- 仮説：シナリオをたくさん進めているユーザーほど（ゲームにはまっているので）課金シナリオを買う"
   ]
  },
  {
   "cell_type": "code",
   "execution_count": 3,
   "metadata": {},
   "outputs": [
    {
     "data": {
      "image/png": "[encoded data removed]",
      "text/plain": [
       "<matplotlib.figure.Figure at 0x108f4b7b8>"
      ]
     },
     "metadata": {},
     "output_type": "display_data"
    }
   ],
   "source": [
    "x = [[1],[2],[3],[4],[5],[6],[7],[8],[9],[10]]\n",
    "y = [6,2,7,4,8,9,4,8,5,3]\n",
    "slr = LinearRegression()\n",
    "slr.fit(x,y)\n",
    "\n",
    "lin_regplot(x, y, slr)\n",
    "plt.xlabel(\"stage\")\n",
    "plt.ylabel(\"special event\")\n",
    "plt.show()"
   ]
  },
  {
   "cell_type": "markdown",
   "metadata": {
    "collapsed": true
   },
   "source": [
    "目立った関係はみられなそうです。当てが外れてしまいました。\n",
    "\n",
    "\n",
    "## 相関係数で相関関係を見る\n",
    "データ間の関係性の強さを見る指標に「相関係数」があります。\n",
    "（$ \\frac{xとyの共分散}{xの標準偏差 \\times yの標準偏差} $）\n",
    "\n",
    "[数学参考:相関係数](数学説明.ipynb#相関係数)\n",
    "\n",
    "それぞれの相関係数を出すと、\n",
    "\n",
    "* 1.「平均ミニゲーム挑戦回数」「平均体力回復アイテムの売り上げ個数」\n",
    "-0.40\n",
    "* 2.「ミニゲーム挑戦回数」「離脱率」\n",
    "0.96\n",
    "* 3.「ユーザーのシナリオ進捗」「イベントシナリオ購入数」\n",
    "0\n",
    "\n",
    "一般的に「相関係数が0.7を超える」場合は強い相関関係があると考えられている。\n",
    "\n",
    "![相関係数](http://business.nikkeibp.co.jp/atclbdt/15/recipe/101500003/beer-diaper-13-1.png?__scale=w:235,h:114&_sh=08d03c0e00)\n",
    "\n",
    "[参考:2つの支出データの類似度合いを示す「相関係数」](http://business.nikkeibp.co.jp/atclbdt/15/recipe/101500003/)\n",
    "\n",
    "「2.「ミニゲーム挑戦回数」「離脱率」」は強い相関関係があると見られる\n",
    "\n",
    "---\n",
    "## まとめ\n",
    "* 「ミニゲーム挑戦回数」が増えるほど「離脱率」が増える\n",
    "\n",
    "（具体的には「ミニゲーム挑戦回数」が1増えると離脱率が10%増える）\n",
    "\n",
    "ミニゲームの難易度を、想定範囲の離脱率にまで下げる工夫が必要だと考えられる\n",
    "\n",
    "例えば、\n",
    "\n",
    "* 「離脱率」を20%以下にするには「ミニゲーム挑戦回数」を4以下にすると良い\n",
    "\n",
    "などの施策を考えられるようになる"
   ]
  },
  {
   "cell_type": "code",
   "execution_count": null,
   "metadata": {
    "collapsed": true
   },
   "outputs": [],
   "source": []
  }
 ],
 "metadata": {
  "kernelspec": {
   "display_name": "Python 3",
   "language": "python",
   "name": "python3"
  },
  "language_info": {
   "codemirror_mode": {
    "name": "ipython",
    "version": 3
   },
   "file_extension": ".py",
   "mimetype": "text/x-python",
   "name": "python",
   "nbconvert_exporter": "python",
   "pygments_lexer": "ipython3",
   "version": "3.6.2"
  }
 },
 "nbformat": 4,
 "nbformat_minor": 2
}
